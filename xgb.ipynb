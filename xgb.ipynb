{
 "cells": [
  {
   "cell_type": "code",
   "execution_count": 1,
   "metadata": {},
   "outputs": [],
   "source": [
    "import numpy as np\n",
    "import pandas as pd\n",
    "import xgboost\n",
    "from sklearn.model_selection import train_test_split as tts\n",
    "from sklearn.metrics import accuracy_score,confusion_matrix,precision_score,recall_score,f1_score\n",
    "from sklearn.preprocessing import OneHotEncoder\n",
    "import matplotlib.pyplot as plt\n",
    "from matplotlib.pylab import rcParams as rp\n",
    "from imblearn.over_sampling import SMOTE"
   ]
  },
  {
   "cell_type": "code",
   "execution_count": 2,
   "metadata": {},
   "outputs": [],
   "source": [
    "ohe = OneHotEncoder()\n",
    "df_x = pd.read_csv('train_x_imputed.csv')\n",
    "\n",
    "ohe_loan = ohe.fit_transform(df_x[[\"Loan.type\"]])\n",
    "df_x = df_x.join(pd.DataFrame(ohe_loan.toarray(), columns=ohe.categories_))\n",
    "\n",
    "ohe_occ = ohe.fit_transform(df_x[[\"Occupation.type\"]])\n",
    "df_x = df_x.join(pd.DataFrame(ohe_occ.toarray(), columns=ohe.categories_))\n",
    "\n",
    "df_x.drop(['Loan.type'],axis=1,inplace=True)\n",
    "df_x.drop(['Occupation.type'],axis=1,inplace=True)\n",
    "df_x.drop(['ID'],axis=1,inplace=True)\n",
    "df_x.to_csv('new.csv',index=False)"
   ]
  },
  {
   "cell_type": "code",
   "execution_count": 3,
   "metadata": {},
   "outputs": [],
   "source": [
    "df_x_test = pd.read_csv('test_x.csv')\n",
    "\n",
    "ohe_loan = ohe.fit_transform(df_x_test[[\"Loan type\"]])\n",
    "df_x_test = df_x_test.join(pd.DataFrame(ohe_loan.toarray(), columns=ohe.categories_))\n",
    "\n",
    "ohe_occ = ohe.fit_transform(df_x_test[[\"Occupation type\"]])\n",
    "df_x_test = df_x_test.join(pd.DataFrame(ohe_occ.toarray(), columns=ohe.categories_))\n",
    "\n",
    "df_x_test.drop(['Loan type'],axis=1,inplace=True)\n",
    "df_x_test.drop(['Occupation type'],axis=1,inplace=True)\n",
    "df_x_test.drop(['ID_Test'],axis=1,inplace=True)\n",
    "df_x_test.to_csv('X_test.csv',index=False)"
   ]
  },
  {
   "cell_type": "code",
   "execution_count": 4,
   "metadata": {},
   "outputs": [],
   "source": [
    "df_x_test = pd.read_csv('test_x.csv')\n",
    "arr = df_x_test.loc[:,'ID_Test'].values"
   ]
  },
  {
   "cell_type": "code",
   "execution_count": 5,
   "metadata": {},
   "outputs": [],
   "source": [
    "df_x_tr = pd.read_csv('new.csv')\n",
    "\n",
    "df_y = pd.read_csv('train_y_imputed.csv')\n",
    "\n",
    "df_y.drop(['ID'],axis=1,inplace=True)"
   ]
  },
  {
   "cell_type": "code",
   "execution_count": 6,
   "metadata": {},
   "outputs": [
    {
     "name": "stdout",
     "output_type": "stream",
     "text": [
      "zeros:  74695\n",
      "ones:  5305\n"
     ]
    }
   ],
   "source": [
    "tuples_x = [tuple(x) for x in df_x_tr.values]\n",
    "tuples_y = [tuple(y) for y in df_y.values]\n",
    "tuples_y = np.ravel(tuples_y)\n",
    "\n",
    "X = np.asarray(tuples_x)\n",
    "y = np.asarray(tuples_y)\n",
    "\n",
    "zeros = len([i for i in y if i == 0])\n",
    "ones = len([i for i in y if i == 1])\n",
    "print(\"zeros: \",zeros)\n",
    "print(\"ones: \",ones)"
   ]
  },
  {
   "cell_type": "code",
   "execution_count": 7,
   "metadata": {},
   "outputs": [],
   "source": [
    "sm = SMOTE(random_state=42,sampling_strategy='minority')\n",
    "X, y = sm.fit_resample(X, y)"
   ]
  },
  {
   "cell_type": "code",
   "execution_count": 8,
   "metadata": {},
   "outputs": [
    {
     "name": "stdout",
     "output_type": "stream",
     "text": [
      "zeros:  74695\n",
      "ones:  74695\n"
     ]
    }
   ],
   "source": [
    "zeros = len([i for i in y if i == 0])\n",
    "ones = len([i for i in y if i == 1])\n",
    "print(\"zeros: \",zeros)\n",
    "print(\"ones: \",ones)"
   ]
  },
  {
   "cell_type": "code",
   "execution_count": 9,
   "metadata": {},
   "outputs": [],
   "source": [
    "x_train,x_val,y_train,y_val = tts(X,y,test_size=0.1,random_state=42)"
   ]
  },
  {
   "cell_type": "code",
   "execution_count": 10,
   "metadata": {},
   "outputs": [],
   "source": [
    "dtrain = xgboost.DMatrix(x_train,label=y_train,feature_names=['Expense','Income','Age','Score1','Score2','Score3','Score4','Score5','A','B','X','Y','Z'])\n",
    "dval = xgboost.DMatrix(x_val,label=y_val,feature_names=['Expense','Income','Age','Score1','Score2','Score3','Score4','Score5','A','B','X','Y','Z'])\n",
    "evallist = [(dtrain, 'train'), (dval, 'eval')]"
   ]
  },
  {
   "cell_type": "code",
   "execution_count": 11,
   "metadata": {},
   "outputs": [
    {
     "name": "stdout",
     "output_type": "stream",
     "text": [
      "[13:38:02] WARNING: C:/Users/Administrator/workspace/xgboost-win64_release_1.3.0/src/learner.cc:1061: Starting in XGBoost 1.3.0, the default evaluation metric used with the objective 'binary:logistic' was changed from 'error' to 'logloss'. Explicitly set eval_metric if you'd like to restore the old behavior.\n",
      "[0]\ttrain-logloss:0.45668\teval-logloss:0.45990\n",
      "[1]\ttrain-logloss:0.32493\teval-logloss:0.32981\n",
      "[2]\ttrain-logloss:0.24191\teval-logloss:0.24818\n",
      "[3]\ttrain-logloss:0.18539\teval-logloss:0.19274\n",
      "[4]\ttrain-logloss:0.14636\teval-logloss:0.15384\n",
      "[5]\ttrain-logloss:0.11836\teval-logloss:0.12630\n",
      "[6]\ttrain-logloss:0.09760\teval-logloss:0.10575\n",
      "[7]\ttrain-logloss:0.08285\teval-logloss:0.09110\n",
      "[8]\ttrain-logloss:0.07203\teval-logloss:0.08044\n",
      "[9]\ttrain-logloss:0.06371\teval-logloss:0.07244\n",
      "[10]\ttrain-logloss:0.05706\teval-logloss:0.06624\n",
      "[11]\ttrain-logloss:0.05251\teval-logloss:0.06221\n",
      "[12]\ttrain-logloss:0.04877\teval-logloss:0.05834\n",
      "[13]\ttrain-logloss:0.04549\teval-logloss:0.05547\n",
      "[14]\ttrain-logloss:0.04304\teval-logloss:0.05311\n",
      "[15]\ttrain-logloss:0.04112\teval-logloss:0.05108\n",
      "[16]\ttrain-logloss:0.03960\teval-logloss:0.04970\n",
      "[17]\ttrain-logloss:0.03846\teval-logloss:0.04853\n",
      "[18]\ttrain-logloss:0.03751\teval-logloss:0.04761\n",
      "[19]\ttrain-logloss:0.03631\teval-logloss:0.04653\n",
      "[20]\ttrain-logloss:0.03557\teval-logloss:0.04604\n",
      "[21]\ttrain-logloss:0.03518\teval-logloss:0.04560\n",
      "[22]\ttrain-logloss:0.03440\teval-logloss:0.04487\n",
      "[23]\ttrain-logloss:0.03389\teval-logloss:0.04447\n",
      "[24]\ttrain-logloss:0.03363\teval-logloss:0.04433\n",
      "[25]\ttrain-logloss:0.03340\teval-logloss:0.04412\n",
      "[26]\ttrain-logloss:0.03277\teval-logloss:0.04387\n",
      "[27]\ttrain-logloss:0.03257\teval-logloss:0.04382\n",
      "[28]\ttrain-logloss:0.03236\teval-logloss:0.04376\n",
      "[29]\ttrain-logloss:0.03217\teval-logloss:0.04371\n",
      "[30]\ttrain-logloss:0.03217\teval-logloss:0.04371\n",
      "[31]\ttrain-logloss:0.03217\teval-logloss:0.04371\n",
      "[32]\ttrain-logloss:0.03217\teval-logloss:0.04371\n",
      "[33]\ttrain-logloss:0.03217\teval-logloss:0.04371\n",
      "[34]\ttrain-logloss:0.03217\teval-logloss:0.04371\n",
      "[35]\ttrain-logloss:0.03217\teval-logloss:0.04371\n",
      "[36]\ttrain-logloss:0.03217\teval-logloss:0.04371\n",
      "[37]\ttrain-logloss:0.03217\teval-logloss:0.04371\n",
      "[38]\ttrain-logloss:0.03217\teval-logloss:0.04371\n",
      "[39]\ttrain-logloss:0.03217\teval-logloss:0.04371\n",
      "[40]\ttrain-logloss:0.03217\teval-logloss:0.04371\n",
      "[41]\ttrain-logloss:0.03217\teval-logloss:0.04371\n",
      "[42]\ttrain-logloss:0.03217\teval-logloss:0.04371\n",
      "[43]\ttrain-logloss:0.03217\teval-logloss:0.04371\n",
      "[44]\ttrain-logloss:0.03217\teval-logloss:0.04371\n",
      "[45]\ttrain-logloss:0.03217\teval-logloss:0.04371\n",
      "[46]\ttrain-logloss:0.03217\teval-logloss:0.04371\n",
      "[47]\ttrain-logloss:0.03217\teval-logloss:0.04371\n",
      "[48]\ttrain-logloss:0.03217\teval-logloss:0.04371\n"
     ]
    }
   ],
   "source": [
    "xgb = xgboost.train({'max_depth':25,'objective':'binary:logistic','gamma':10},dtrain,1000,evals=evallist,early_stopping_rounds=20)"
   ]
  },
  {
   "cell_type": "code",
   "execution_count": 12,
   "metadata": {},
   "outputs": [],
   "source": [
    "y_pred_train = xgb.predict(dtrain) # This returns the probability P(Y=k|X) where k is class\n",
    "y_predictions_train = (y_pred_train > 0.5).astype(int)  # Using a threshold of 0.5 we predict the class"
   ]
  },
  {
   "cell_type": "code",
   "execution_count": 14,
   "metadata": {},
   "outputs": [
    {
     "name": "stdout",
     "output_type": "stream",
     "text": [
      "Accuracy in training set is : 0.9910971283218422\n",
      "Accuracy in test set is : 0.9860767119619787\n",
      "Precision in training set is : 0.9883949294768791\n",
      "Precision in test set is : 0.9843645596685822\n",
      "Recall in training set is : 0.993762060763811\n",
      "Recall in test set is : 0.9877967010862277\n",
      "F1 score in training set is : 0.9910712287689932\n",
      "F1 score in test set is : 0.9860776439089692\n"
     ]
    }
   ],
   "source": [
    "y_pred = xgb.predict(dval,ntree_limit=xgb.best_ntree_limit)\n",
    "y_predictions = (y_pred>0.5).astype(int)\n",
    "\n",
    "print(\"Accuracy in training set is :\",accuracy_score(y_predictions_train,y_train))\n",
    "print(\"Accuracy in test set is :\",accuracy_score(y_predictions,y_val))\n",
    "\n",
    "print(\"Precision in training set is :\",precision_score(y_predictions_train,y_train))\n",
    "print(\"Precision in test set is :\",precision_score(y_predictions,y_val))\n",
    "\n",
    "print(\"Recall in training set is :\",recall_score(y_predictions_train,y_train))\n",
    "print(\"Recall in test set is :\",recall_score(y_predictions,y_val))\n",
    "\n",
    "print(\"F1 score in training set is :\",f1_score(y_predictions_train,y_train))\n",
    "print(\"F1 score in test set is :\",f1_score(y_predictions,y_val))"
   ]
  },
  {
   "cell_type": "code",
   "execution_count": 15,
   "metadata": {},
   "outputs": [
    {
     "data": {
      "text/plain": [
       "array([[66822,   780],\n",
       "       [  417, 66432]], dtype=int64)"
      ]
     },
     "execution_count": 15,
     "metadata": {},
     "output_type": "execute_result"
    }
   ],
   "source": [
    "confusion_matrix(y_predictions_train,y_train)"
   ]
  },
  {
   "cell_type": "code",
   "execution_count": 16,
   "metadata": {},
   "outputs": [],
   "source": [
    "df_x_test = pd.read_csv('X_test.csv')\n",
    "tuples_x = [tuple(x) for x in df_x_test.values]\n",
    "X_test = np.asarray(tuples_x)\n",
    "Dtest = xgboost.DMatrix(X_test,feature_names=['Expense','Income','Age','Score1','Score2','Score3','Score4','Score5','A','B','X','Y','Z'])\n",
    "Y_test_pred = xgb.predict(Dtest)\n",
    "Y_test_predictions = (Y_test_pred>0.5).astype(int)\n",
    "a = np.asarray(Y_test_predictions)"
   ]
  },
  {
   "cell_type": "code",
   "execution_count": 17,
   "metadata": {},
   "outputs": [],
   "source": [
    "df_pred = pd.DataFrame()\n",
    "df_pred.insert(0,\"ID_Test\",arr)\n",
    "df_pred.insert(1,\"Y_Predicted\",a)\n",
    "header = [\"ID_Test\",\"Y_Predicted\"]\n",
    "df_pred.to_csv('Predictions.csv',sep=',',columns=header,index=False)"
   ]
  },
  {
   "cell_type": "code",
   "execution_count": 18,
   "metadata": {},
   "outputs": [
    {
     "data": {
      "text/plain": [
       "<AxesSubplot:title={'center':'Feature importance'}, xlabel='F score', ylabel='Features'>"
      ]
     },
     "execution_count": 18,
     "metadata": {},
     "output_type": "execute_result"
    },
    {
     "data": {
      "image/png": "[encoded data removed]",
      "text/plain": [
       "<Figure size 432x288 with 1 Axes>"
      ]
     },
     "metadata": {
      "needs_background": "light"
     },
     "output_type": "display_data"
    }
   ],
   "source": [
    "xgboost.plot_importance(xgb)"
   ]
  },
  {
   "cell_type": "code",
   "execution_count": null,
   "metadata": {},
   "outputs": [],
   "source": []
  }
 ],
 "metadata": {
  "kernelspec": {
   "display_name": "Python 3.8.6 64-bit",
   "language": "python",
   "name": "python3"
  },
  "language_info": {
   "codemirror_mode": {
    "name": "ipython",
    "version": 3
   },
   "file_extension": ".py",
   "mimetype": "text/x-python",
   "name": "python",
   "nbconvert_exporter": "python",
   "pygments_lexer": "ipython3",
   "version": "3.8.6"
  },
  "orig_nbformat": 4,
  "vscode": {
   "interpreter": {
    "hash": "2469a70536e4d2335a2ea8907942d0699c37342a371ac185bdb5b0aa6f073890"
   }
  }
 },
 "nbformat": 4,
 "nbformat_minor": 2
}
